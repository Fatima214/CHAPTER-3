{
 "cells": [
  {
   "cell_type": "markdown",
   "metadata": {},
   "source": [
    "# 3.1"
   ]
  },
  {
   "cell_type": "code",
   "execution_count": 2,
   "metadata": {},
   "outputs": [
    {
     "name": "stdout",
     "output_type": "stream",
     "text": [
      "enter the temperature in degrees fahrenheit:50\n",
      "the temperature in degrees celsius is: 10.0\n"
     ]
    }
   ],
   "source": [
    "fahrenheit=eval(input(\"enter the temperature in degrees fahrenheit:\"))\n",
    "celsius=5/9*(fahrenheit-32)\n",
    "print(\"the temperature in degrees celsius is:\",celsius)"
   ]
  },
  {
   "cell_type": "markdown",
   "metadata": {},
   "source": [
    "# 3.2"
   ]
  },
  {
   "cell_type": "code",
   "execution_count": 3,
   "metadata": {},
   "outputs": [
    {
     "name": "stdout",
     "output_type": "stream",
     "text": [
      "Enter age:65\n",
      "you can get your pension benefits\n"
     ]
    }
   ],
   "source": [
    "age=int(input(\"Enter age:\"))\n",
    "if age>62:\n",
    "    print(\"you can get your pension benefits\")"
   ]
  },
  {
   "cell_type": "code",
   "execution_count": 4,
   "metadata": {},
   "outputs": [
    {
     "name": "stdout",
     "output_type": "stream",
     "text": [
      "Enter age:65\n",
      "you can get your pension benefits\n",
      "enter name:Ruth\n",
      "One of the top 5 baseball players, ever!\n",
      "enter hits:11\n",
      "enter sheild:0\n",
      "You are dead...\n",
      "I can escape.\n"
     ]
    }
   ],
   "source": [
    "#a\n",
    "age=eval(input(\"Enter age:\"))\n",
    "if age>62:\n",
    "    print(\"you can get your pension benefits\")\n",
    "#b\n",
    "list=['Musial', 'Aaraon', 'Williams', 'Gehrig', 'Ruth']\n",
    "name=str(input(\"enter name:\"))\n",
    "if name in list:\n",
    "    print(\"One of the top 5 baseball players, ever!\")\n",
    "#c\n",
    "hits=eval(input(\"enter hits:\"))\n",
    "sheild=eval(input(\"enter sheild:\"))\n",
    "if hits>10 and sheild==0:\n",
    "    print(\"You are dead...\")\n",
    "#d\n",
    "north=1\n",
    "south=2\n",
    "east=5\n",
    "west=3\n",
    "if north or south or east or west:\n",
    "    print(\"I can escape.\")"
   ]
  },
  {
   "cell_type": "markdown",
   "metadata": {},
   "source": [
    "# 3.3"
   ]
  },
  {
   "cell_type": "code",
   "execution_count": 5,
   "metadata": {},
   "outputs": [
    {
     "name": "stdout",
     "output_type": "stream",
     "text": [
      "enter year:16\n",
      "Could be a leap year\n",
      "You won!\n"
     ]
    }
   ],
   "source": [
    "#a\n",
    "year=eval(input(\"enter year:\"))\n",
    "if year%4==0:\n",
    "    print(\"Could be a leap year\")\n",
    "else:\n",
    "    print(\"Definitely not a leap year.\")\n",
    "#b\n",
    "ticket=[1,2,3,4,5]\n",
    "lottery=[1,2,3,4,5]\n",
    "if ticket==lottery:\n",
    "    print(\"You won!\")\n",
    "else:\n",
    "    print(\"Better luck next time...\")\n",
    "    \n",
    "    "
   ]
  },
  {
   "cell_type": "markdown",
   "metadata": {},
   "source": [
    "# 3.4"
   ]
  },
  {
   "cell_type": "code",
   "execution_count": 6,
   "metadata": {},
   "outputs": [
    {
     "name": "stdout",
     "output_type": "stream",
     "text": [
      "login:joe\n",
      "you are in!\n",
      "done!\n"
     ]
    }
   ],
   "source": [
    "id=str(input(\"login:\"))\n",
    "list=['joe', 'sue','hani', 'sophie']\n",
    "if id in list:\n",
    "    print(\"you are in!\")\n",
    "else: \n",
    "    print(\"user unknown\")\n",
    "print(\"done!\")"
   ]
  },
  {
   "cell_type": "markdown",
   "metadata": {},
   "source": [
    "# 3.5"
   ]
  },
  {
   "cell_type": "code",
   "execution_count": 7,
   "metadata": {},
   "outputs": [
    {
     "name": "stdout",
     "output_type": "stream",
     "text": [
      "stop\n",
      "post\n"
     ]
    }
   ],
   "source": [
    "list=['stop', 'desktop', 'top', 'post']\n",
    "for word in list:\n",
    "    if len(word)==4:\n",
    "        print(word)"
   ]
  },
  {
   "cell_type": "markdown",
   "metadata": {},
   "source": [
    "# 3.6"
   ]
  },
  {
   "cell_type": "code",
   "execution_count": 8,
   "metadata": {},
   "outputs": [
    {
     "name": "stdout",
     "output_type": "stream",
     "text": [
      "0\n",
      "1\n",
      "2\n",
      "3\n",
      "4\n",
      "5\n",
      "6\n",
      "7\n",
      "8\n",
      "9\n",
      " \n",
      "0\n",
      "1\n"
     ]
    }
   ],
   "source": [
    "#a\n",
    "for i in range(0,10):\n",
    "    print(i)\n",
    "print(\" \")\n",
    "#b\n",
    "for j in range(0,2):\n",
    "    print(j)"
   ]
  },
  {
   "cell_type": "markdown",
   "metadata": {},
   "source": [
    "# 3.7"
   ]
  },
  {
   "cell_type": "code",
   "execution_count": 9,
   "metadata": {},
   "outputs": [
    {
     "name": "stdout",
     "output_type": "stream",
     "text": [
      "3\n",
      "4\n",
      "5\n",
      "6\n",
      "7\n",
      "8\n",
      "9\n",
      "10\n",
      "11\n",
      "12\n",
      "\n",
      "0\n",
      "2\n",
      "4\n",
      "6\n",
      "8\n",
      "\n",
      "3\n",
      "8\n"
     ]
    }
   ],
   "source": [
    "#a\n",
    "for i in range(3,13):\n",
    "    print(i)\n",
    "print(\"\")\n",
    "#b\n",
    "for i in range(0,9,2):\n",
    "    print(i)\n",
    "print(\"\")\n",
    "#c\n",
    "for i in range(3,13,5):\n",
    "    print(i)"
   ]
  },
  {
   "cell_type": "markdown",
   "metadata": {},
   "source": [
    "# 3.8"
   ]
  },
  {
   "cell_type": "code",
   "execution_count": 10,
   "metadata": {},
   "outputs": [
    {
     "name": "stdout",
     "output_type": "stream",
     "text": [
      "12.566370614359172\n"
     ]
    }
   ],
   "source": [
    "def perimeter(r):\n",
    "    from math import pi\n",
    "    perimeter=2*pi*r\n",
    "    print(perimeter)\n",
    "perimeter(2)"
   ]
  },
  {
   "cell_type": "markdown",
   "metadata": {},
   "source": [
    "# 3.9"
   ]
  },
  {
   "cell_type": "code",
   "execution_count": 11,
   "metadata": {},
   "outputs": [
    {
     "name": "stdout",
     "output_type": "stream",
     "text": [
      "4.0\n"
     ]
    }
   ],
   "source": [
    "def average(a,b):\n",
    "    \"\"\"by doing sum of a and b it divide by 2\"\"\"\n",
    "    avr=(a+b)/2\n",
    "    print(avr)\n",
    "average(4,4)"
   ]
  },
  {
   "cell_type": "markdown",
   "metadata": {},
   "source": [
    "# 3.10"
   ]
  },
  {
   "cell_type": "code",
   "execution_count": 12,
   "metadata": {},
   "outputs": [
    {
     "name": "stdout",
     "output_type": "stream",
     "text": [
      "False\n",
      "True\n"
     ]
    }
   ],
   "source": [
    "def noVowel(s):\n",
    "    for c in s:\n",
    "        if c in 'aeiouAEIOU':\n",
    "            print(\"False\")\n",
    "    print(\"True\")\n",
    "noVowel('string')"
   ]
  },
  {
   "cell_type": "markdown",
   "metadata": {},
   "source": [
    "# 3.11"
   ]
  },
  {
   "cell_type": "code",
   "execution_count": 13,
   "metadata": {},
   "outputs": [
    {
     "data": {
      "text/plain": [
       "True"
      ]
     },
     "execution_count": 13,
     "metadata": {},
     "output_type": "execute_result"
    }
   ],
   "source": [
    "def allEven(list):\n",
    "    for c in list:\n",
    "        if c%2==0:\n",
    "            return True\n",
    "    return False\n",
    "allEven([1,2,3,4,5])"
   ]
  },
  {
   "cell_type": "markdown",
   "metadata": {},
   "source": [
    "# 3.12"
   ]
  },
  {
   "cell_type": "code",
   "execution_count": 14,
   "metadata": {},
   "outputs": [
    {
     "name": "stdout",
     "output_type": "stream",
     "text": [
      "-4\n",
      "-8\n",
      "-2\n"
     ]
    }
   ],
   "source": [
    "def negatives(list):\n",
    "    \"\"\"returns the number which is negative in the string\"\"\"\n",
    "    for i in list:\n",
    "        if i<0:\n",
    "            print(i)\n",
    "negatives([1,2,4,-4,-8,-2,7])"
   ]
  },
  {
   "cell_type": "markdown",
   "metadata": {},
   "source": [
    "# 3.13"
   ]
  },
  {
   "cell_type": "code",
   "execution_count": 15,
   "metadata": {},
   "outputs": [
    {
     "name": "stdout",
     "output_type": "stream",
     "text": [
      "Help on function average in module __main__:\n",
      "\n",
      "average(a, b)\n",
      "    by doing sum of a and b it divide by 2\n",
      "\n",
      "Help on function negatives in module __main__:\n",
      "\n",
      "negatives(list)\n",
      "    returns the number which is negative in the string\n",
      "\n"
     ]
    }
   ],
   "source": [
    "help(average)\n",
    "help(negatives)"
   ]
  },
  {
   "cell_type": "markdown",
   "metadata": {},
   "source": [
    "# 3.15"
   ]
  },
  {
   "cell_type": "code",
   "execution_count": 16,
   "metadata": {},
   "outputs": [
    {
     "name": "stdout",
     "output_type": "stream",
     "text": [
      "['Sarah', 'Eleanor', 'Clare', 'Ava']\n"
     ]
    }
   ],
   "source": [
    "team = ['Ava', 'Eleanor', 'Clare', 'Sarah']\n",
    "team[0],team[-1]=team[-1],team[0]\n",
    "print(team)"
   ]
  },
  {
   "cell_type": "markdown",
   "metadata": {},
   "source": [
    "# 3.16"
   ]
  },
  {
   "cell_type": "code",
   "execution_count": 17,
   "metadata": {},
   "outputs": [
    {
     "data": {
      "text/plain": [
       "['apples', 'sugar', 'butter', 'flour']"
      ]
     },
     "execution_count": 17,
     "metadata": {},
     "output_type": "execute_result"
    }
   ],
   "source": [
    "def swapFL(ingrediants):\n",
    "    ingrediants[0],ingrediants[-1]=ingrediants[-1],ingrediants[0]\n",
    "    return ingrediants\n",
    "swapFL(['flour', 'sugar', 'butter', 'apples'])\n",
    "    "
   ]
  },
  {
   "cell_type": "markdown",
   "metadata": {},
   "source": [
    "# 3.17"
   ]
  },
  {
   "cell_type": "code",
   "execution_count": 20,
   "metadata": {},
   "outputs": [
    {
     "name": "stdout",
     "output_type": "stream",
     "text": [
      "enter:'2 * 3 + 1'\n",
      "2 * 3 + 1\n",
      "enter:'hello'\n",
      "hello\n",
      "enter:'hello' + ' ' + 'world!'\n",
      "hello world!\n",
      "enter:'ASCII'.count('I')\n",
      "2\n",
      "enter:'x = 5'\n",
      "x = 5\n"
     ]
    }
   ],
   "source": [
    "#a\n",
    "a=eval(input(\"enter:\"))\n",
    "print(a)\n",
    "#b\n",
    "b=eval(input(\"enter:\"))\n",
    "print(b)\n",
    "#c\n",
    "c=eval(input(\"enter:\"))\n",
    "print(c)\n",
    "#d\n",
    "d=eval(input(\"enter:\"))\n",
    "print(d)\n",
    "#e\n",
    "e=eval(input(\"enter:\"))\n",
    "print(e)"
   ]
  },
  {
   "cell_type": "markdown",
   "metadata": {},
   "source": [
    "# 3.18"
   ]
  },
  {
   "cell_type": "code",
   "execution_count": 24,
   "metadata": {},
   "outputs": [
    {
     "name": "stdout",
     "output_type": "stream",
     "text": [
      "a:OK\n",
      "d:OK\n"
     ]
    }
   ],
   "source": [
    "a, b, c = 3, 4, 5\n",
    "#a\n",
    "if a<b:\n",
    "    print(\"a:OK\")\n",
    "#b\n",
    "if c<b:\n",
    "    print(\"b:OK\")\n",
    "#c\n",
    "if a+b==c:\n",
    "    print(\"c:OK\")\n",
    "#d\n",
    "if a**2+b**2==c**2:\n",
    "    print(\"d:OK\")"
   ]
  },
  {
   "cell_type": "markdown",
   "metadata": {},
   "source": [
    "# 3.19"
   ]
  },
  {
   "cell_type": "code",
   "execution_count": 25,
   "metadata": {},
   "outputs": [
    {
     "name": "stdout",
     "output_type": "stream",
     "text": [
      "a:OK\n",
      "b:NOT OK\n",
      "c:NOT OK\n",
      "d:OK\n"
     ]
    }
   ],
   "source": [
    "a, b, c = 3, 4, 5\n",
    "#a\n",
    "if a<b:\n",
    "    print(\"a:OK\")\n",
    "else:\n",
    "    print(\"a:NOT OK\")\n",
    "#b\n",
    "if c<b:\n",
    "    print(\"b:OK\")\n",
    "else:\n",
    "    print(\"b:NOT OK\")\n",
    "#c\n",
    "if a+b==c:\n",
    "    print(\"c:OK\")\n",
    "else:\n",
    "    print(\"c:NOT OK\")\n",
    "#d\n",
    "if a**2+b**2==c**2:\n",
    "    print(\"d:OK\")\n",
    "else:\n",
    "    print(\"d:NOT OK\")"
   ]
  },
  {
   "cell_type": "markdown",
   "metadata": {},
   "source": [
    "# 3.20"
   ]
  },
  {
   "cell_type": "code",
   "execution_count": 58,
   "metadata": {},
   "outputs": [
    {
     "name": "stdout",
     "output_type": "stream",
     "text": [
      "Jan\n",
      "Feb\n",
      "Mar\n"
     ]
    }
   ],
   "source": [
    "lst=['January', 'February', 'March']\n",
    "for c in lst:\n",
    "     print(c[:3])\n",
    "    \n",
    "       "
   ]
  },
  {
   "cell_type": "markdown",
   "metadata": {},
   "source": [
    "# 3.21"
   ]
  },
  {
   "cell_type": "code",
   "execution_count": 44,
   "metadata": {},
   "outputs": [
    {
     "name": "stdout",
     "output_type": "stream",
     "text": [
      "2\n",
      "4\n",
      "6\n",
      "8\n"
     ]
    }
   ],
   "source": [
    "list=[2, 3, 4, 5, 6, 7, 8, 9]\n",
    "for c in list:\n",
    "    if c%2==0:\n",
    "     print(c)\n"
   ]
  },
  {
   "cell_type": "markdown",
   "metadata": {},
   "source": [
    "# 3.22"
   ]
  },
  {
   "cell_type": "code",
   "execution_count": 47,
   "metadata": {},
   "outputs": [
    {
     "name": "stdout",
     "output_type": "stream",
     "text": [
      "4\n",
      "8\n"
     ]
    }
   ],
   "source": [
    "list=[2, 3, 4, 5, 6, 7, 8, 9]\n",
    "for c in list:\n",
    "    if (c**2)%8==0:\n",
    "        print(c)"
   ]
  },
  {
   "cell_type": "markdown",
   "metadata": {},
   "source": [
    "# 3.23"
   ]
  },
  {
   "cell_type": "code",
   "execution_count": 49,
   "metadata": {},
   "outputs": [
    {
     "name": "stdout",
     "output_type": "stream",
     "text": [
      "0\n",
      "1\n",
      "\n",
      "0\n",
      "\n",
      "3\n",
      "4\n",
      "5\n",
      "6\n",
      "\n",
      "1\n",
      "\n",
      "0\n",
      "3\n",
      "\n",
      "5\n",
      "9\n",
      "13\n",
      "17\n",
      "21\n"
     ]
    }
   ],
   "source": [
    "#a\n",
    "for c in range(0,2):\n",
    "    print(c)\n",
    "print(\"\")\n",
    "#b\n",
    "for c in range(0,1):\n",
    "    print(c)\n",
    "print(\"\")\n",
    "#c\n",
    "for c in range(3,7):\n",
    "     print(c)\n",
    "print(\"\")\n",
    "#d\n",
    "for c in range(1,2):\n",
    "     print(c)\n",
    "print(\"\")\n",
    "#e\n",
    "for c in range(0,4,3):\n",
    "     print(c)\n",
    "print(\"\")\n",
    "#f\n",
    "for c in range(5,22,4):\n",
    "    print(c)\n",
    "    "
   ]
  },
  {
   "cell_type": "markdown",
   "metadata": {},
   "source": [
    "# 3.24"
   ]
  },
  {
   "cell_type": "code",
   "execution_count": 64,
   "metadata": {},
   "outputs": [
    {
     "name": "stdout",
     "output_type": "stream",
     "text": [
      "enter a list:['cia','secret','mi6','isi','secret']\n",
      "cia\n",
      "mi6\n",
      "isi\n"
     ]
    }
   ],
   "source": [
    "e=eval(input(\"enter a list:\"))\n",
    "for c in e:\n",
    "    if c!='secret':\n",
    "        print(c)"
   ]
  },
  {
   "cell_type": "markdown",
   "metadata": {},
   "source": [
    "# 3.26"
   ]
  },
  {
   "cell_type": "code",
   "execution_count": 66,
   "metadata": {},
   "outputs": [
    {
     "name": "stdout",
     "output_type": "stream",
     "text": [
      "enter a list:[3, 5, 7, 9]\n",
      "the first list element is: 3\n",
      "the last list element is: 9\n"
     ]
    }
   ],
   "source": [
    "e=eval(input(\"enter a list:\"))\n",
    "print(\"the first list element is:\",e[0])\n",
    "print(\"the last list element is:\",e[3])\n"
   ]
  },
  {
   "cell_type": "markdown",
   "metadata": {},
   "source": [
    "# 3.28"
   ]
  },
  {
   "cell_type": "code",
   "execution_count": 73,
   "metadata": {},
   "outputs": [
    {
     "name": "stdout",
     "output_type": "stream",
     "text": [
      "enter a number:3\n",
      "0\n",
      "1\n",
      "4\n",
      "9\n",
      "16\n"
     ]
    }
   ],
   "source": [
    "c=eval(input(\"enter a number:\"))\n",
    "for i in range(0,5):\n",
    "    e=i**2\n",
    "    print(e)"
   ]
  },
  {
   "cell_type": "markdown",
   "metadata": {},
   "source": [
    "# 3.33"
   ]
  },
  {
   "cell_type": "code",
   "execution_count": 77,
   "metadata": {},
   "outputs": [
    {
     "name": "stdout",
     "output_type": "stream",
     "text": [
      "cba\n"
     ]
    }
   ],
   "source": [
    "def reverse_string(string):\n",
    "    c=string[::-1]\n",
    "    print(c)\n",
    "reverse_string('abc')"
   ]
  }
 ],
 "metadata": {
  "kernelspec": {
   "display_name": "Python 3",
   "language": "python",
   "name": "python3"
  },
  "language_info": {
   "codemirror_mode": {
    "name": "ipython",
    "version": 3
   },
   "file_extension": ".py",
   "mimetype": "text/x-python",
   "name": "python",
   "nbconvert_exporter": "python",
   "pygments_lexer": "ipython3",
   "version": "3.7.3"
  }
 },
 "nbformat": 4,
 "nbformat_minor": 2
}
